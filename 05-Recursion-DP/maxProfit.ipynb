{
 "metadata": {
  "language_info": {
   "codemirror_mode": {
    "name": "ipython",
    "version": 3
   },
   "file_extension": ".py",
   "mimetype": "text/x-python",
   "name": "python",
   "nbconvert_exporter": "python",
   "pygments_lexer": "ipython3",
   "version": "3.7.4-final"
  },
  "orig_nbformat": 2,
  "kernelspec": {
   "name": "python3",
   "display_name": "Python 3"
  }
 },
 "nbformat": 4,
 "nbformat_minor": 2,
 "cells": [
  {
   "source": [
    "# 买卖股票最佳时机\n",
    "[188. 买卖股票的最佳时机 IV](https://leetcode-cn.com/problems/best-time-to-buy-and-sell-stock-iv/)"
   ],
   "cell_type": "markdown",
   "metadata": {}
  },
  {
   "source": [
    "## 交易次数是无限次\n",
    "[122. 买卖股票的最佳时机 II](https://leetcode-cn.com/problems/best-time-to-buy-and-sell-stock-ii/)\n",
    "\n"
   ],
   "cell_type": "markdown",
   "metadata": {}
  },
  {
   "source": [
    "### 动态规划"
   ],
   "cell_type": "markdown",
   "metadata": {}
  },
  {
   "cell_type": "code",
   "execution_count": 5,
   "metadata": {},
   "outputs": [
    {
     "output_type": "stream",
     "name": "stdout",
     "text": [
      "7\n"
     ]
    }
   ],
   "source": [
    "class Solution(object):\n",
    "    def maxProfit(self, prices):\n",
    "        if not prices:\n",
    "            return 0\n",
    "\n",
    "        n = len(prices) \n",
    "        buy = [0] * n\n",
    "        sell = [0] * n\n",
    "        buy[0] = -prices[0]\n",
    "        \n",
    "        for i in range(1,n):\n",
    "            sell[i] = max(sell[i - 1], buy[i - 1] + prices[i])\n",
    "            buy[i] = max(buy[i - 1], sell[i - 1] - prices[i])\n",
    "            \n",
    "        return sell[-1]\n",
    "if __name__ == \"__main__\": \n",
    "    solu = Solution() \n",
    "    result = solu.maxProfit([7,1,5,3,6,4]) \n",
    "    print(result)\n",
    "\n"
   ]
  },
  {
   "source": [
    "### 降低空间复杂度"
   ],
   "cell_type": "markdown",
   "metadata": {}
  },
  {
   "cell_type": "code",
   "execution_count": 13,
   "metadata": {},
   "outputs": [
    {
     "output_type": "stream",
     "name": "stdout",
     "text": [
      "7\n"
     ]
    }
   ],
   "source": [
    "class Solution(object):\n",
    "    def maxProfit(self, prices):\n",
    "        if not prices:\n",
    "            return 0\n",
    "        n = len(prices)       \n",
    "        sell,buy = 0,-prices[0]\n",
    "        for i in range(1,n):            \n",
    "            sell = max(sell,buy+prices[i])\n",
    "            buy = max(buy,sell-prices[i])\n",
    "        return sell\n",
    "if __name__ == \"__main__\": \n",
    "    solu = Solution() \n",
    "    result = solu.maxProfit([7,1,5,3,6,4]) \n",
    "    print(result)\n",
    "\n",
    "           "
   ]
  },
  {
   "cell_type": "code",
   "execution_count": 12,
   "metadata": {},
   "outputs": [
    {
     "output_type": "stream",
     "name": "stdout",
     "text": [
      "7\n"
     ]
    }
   ],
   "source": [
    "from typing import List\n",
    "class Solution:\n",
    "    def maxProfit(self, prices: List[int]) -> int:\n",
    "        profit = 0\n",
    "        for i in range(len(prices)-1):\n",
    "            if prices[i+1] > prices[i]:\n",
    "                profit += prices[i+1] - prices[i]\n",
    "        return profit\n",
    "if __name__ == \"__main__\": \n",
    "    solu = Solution() \n",
    "    result = solu.maxProfit([7,1,5,3,6,4]) \n",
    "    print(result)"
   ]
  },
  {
   "source": [
    "## 交易k次\n",
    "k <= n//2\n"
   ],
   "cell_type": "markdown",
   "metadata": {}
  },
  {
   "source": [
    "### 递归+记忆化存储"
   ],
   "cell_type": "markdown",
   "metadata": {}
  },
  {
   "cell_type": "code",
   "execution_count": 16,
   "metadata": {},
   "outputs": [
    {
     "output_type": "stream",
     "name": "stdout",
     "text": [
      "9\n"
     ]
    }
   ],
   "source": [
    "from typing import List\n",
    "class Solution:\n",
    "    def maxProfit(self, k, prices: List[int]) -> int:\n",
    "        if not prices:\n",
    "            return 0\n",
    "        n = len(prices)\n",
    "        if k > n//2: # 交易次数是无限次\n",
    "            profit = 0\n",
    "            for i in range(n-1):\n",
    "                if prices[i+1] > prices[i]:\n",
    "                    profit += prices[i+1] - prices[i]\n",
    "            return profit\n",
    "\n",
    "        d = dict()        \n",
    "        def dfs(index,status,count):\n",
    "            if (index,status,count) in d:\n",
    "                return d[index,status,count]\n",
    "            if index==n or count==k:\n",
    "                d[index,status,count] = 0\n",
    "                return 0\n",
    "            a,b,c = 0,0,0\n",
    "            a = dfs(index+1,status,count)\n",
    "            if status:\n",
    "                b = dfs(index+1,0,count+1)+prices[index]\n",
    "            else:\n",
    "                c = dfs(index+1,1,count)-prices[index]\n",
    "            d[index,status,count] = max(a,b,c)\n",
    "            return d[index,status,count]\n",
    "        return dfs(0,0,0)\n",
    "if __name__ == \"__main__\": \n",
    "    solu = Solution() \n",
    "    k = 2\n",
    "    prices = [7,1,5,3,6,4,8]\n",
    "    result = solu.maxProfit(k, prices)    \n",
    "    print(result)"
   ]
  },
  {
   "cell_type": "code",
   "execution_count": 17,
   "metadata": {},
   "outputs": [
    {
     "output_type": "stream",
     "name": "stdout",
     "text": [
      "9\n"
     ]
    }
   ],
   "source": [
    "class Solution:\n",
    "    def maxProfit(self, k, prices):\t\n",
    "        n = len(prices)\n",
    "        if not n: return 0\n",
    "        max_profit = 0\n",
    "        if k >= n / 2:\n",
    "            for i in range(1, n):\n",
    "                max_profit += max(prices[i] - prices[i - 1], 0)\n",
    "            return max_profit\n",
    "\n",
    "        dp = [[0 for j in range(n)] for i in range(k + 1)]\n",
    "        for i in range(1, k + 1):\n",
    "            sell = -prices[0]\n",
    "            for j in range(1, n):\n",
    "                dp[i][j] = max(dp[i][j - 1], sell + prices[j])\n",
    "                sell = max(sell, -prices[j] + dp[i - 1][j])\n",
    "        return dp[-1][-1]\n",
    "        \n",
    "if __name__ == \"__main__\": \n",
    "    solu = Solution() \n",
    "    k = 2\n",
    "    prices = [7,1,5,3,6,4,8]\n",
    "    result = solu.maxProfit(k, prices)    \n",
    "    print(result)"
   ]
  },
  {
   "cell_type": "code",
   "execution_count": null,
   "metadata": {},
   "outputs": [],
   "source": []
  }
 ]
}