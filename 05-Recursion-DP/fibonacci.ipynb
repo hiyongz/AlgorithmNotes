{
 "metadata": {
  "language_info": {
   "codemirror_mode": {
    "name": "ipython",
    "version": 3
   },
   "file_extension": ".py",
   "mimetype": "text/x-python",
   "name": "python",
   "nbconvert_exporter": "python",
   "pygments_lexer": "ipython3",
   "version": "3.7.4-final"
  },
  "orig_nbformat": 2,
  "kernelspec": {
   "name": "python3",
   "display_name": "Python 3"
  }
 },
 "nbformat": 4,
 "nbformat_minor": 2,
 "cells": [
  {
   "source": [
    "# 1. 斐波拉契数列-暴力递归\n",
    "时间复杂度：O$(2^N)$\n",
    "\n",
    "空间复杂度：O(N)\n"
   ],
   "cell_type": "markdown",
   "metadata": {}
  },
  {
   "cell_type": "code",
   "execution_count": 5,
   "metadata": {},
   "outputs": [
    {
     "output_type": "stream",
     "name": "stdout",
     "text": [
      "8\n"
     ]
    }
   ],
   "source": [
    "class Solution:\n",
    "    def fib(self, n):\n",
    "        if n <= 0:\n",
    "            return 0\n",
    "        elif n == 1:\n",
    "            return 1\n",
    "        else:\n",
    "            return self.fib(n - 1) + self.fib(n - 2)\n",
    "if __name__ == \"__main__\":\n",
    "    solu = Solution()\n",
    "    result = solu.fib(6)\n",
    "    print(result)"
   ]
  },
  {
   "source": [
    "# 2. 斐波拉契数列-记忆化\n",
    "时间复杂度：O(N)\n",
    "\n",
    "空间复杂度：O(N)\n"
   ],
   "cell_type": "markdown",
   "metadata": {}
  },
  {
   "source": [
    "class Solution:\n",
    "    def fib(self, n):\n",
    "        cash = {0:0,1:1}\n",
    "        def memoize(n):\n",
    "            if n in cash:\n",
    "                return cash[n]\n",
    "            cash[n] = memoize(n - 1) + memoize(n - 2)\n",
    "            return cash[n]\n",
    "        return memoize(n)\n",
    "if __name__ == \"__main__\":\n",
    "    solu = Solution()\n",
    "    result = solu.fib(6)\n",
    "    print(result)"
   ],
   "cell_type": "code",
   "metadata": {},
   "execution_count": 4,
   "outputs": [
    {
     "output_type": "stream",
     "name": "stdout",
     "text": [
      "8\n"
     ]
    }
   ]
  },
  {
   "source": [
    "# 3. 斐波拉契数列-动态规划\n",
    "时间复杂度：O(N)\n",
    "\n",
    "空间复杂度：O(N)"
   ],
   "cell_type": "markdown",
   "metadata": {}
  },
  {
   "source": [
    "class Solution: \n",
    "    def fib(self, n): \n",
    "        if n <= 1: return n\n",
    "\n",
    "        dp = [0, 1] + [0]*(n-1)\n",
    "        for i in range(2, n+1):\n",
    "            dp[i] = dp[i-1] + dp[i-2]\n",
    "        return dp[i]\n",
    "        \n",
    "if __name__ == \"__main__\":\n",
    "    solu = Solution() \n",
    "    result = solu.fib(6) \n",
    "    print(result)"
   ],
   "cell_type": "code",
   "metadata": {},
   "execution_count": 6,
   "outputs": [
    {
     "output_type": "stream",
     "name": "stdout",
     "text": [
      "8\n"
     ]
    }
   ]
  },
  {
   "source": [
    "# 4. 斐波拉契数列-自底向上迭代\n",
    "时间复杂度：O(N)\n",
    "\n",
    "空间复杂度：O(1)"
   ],
   "cell_type": "markdown",
   "metadata": {}
  },
  {
   "cell_type": "code",
   "execution_count": 7,
   "metadata": {},
   "outputs": [
    {
     "output_type": "stream",
     "name": "stdout",
     "text": [
      "8\n"
     ]
    }
   ],
   "source": [
    "class Solution: \n",
    "    def fib(self, n): \n",
    "        if n <= 1: return n\n",
    "        a, b = 0, 1\n",
    "        \n",
    "        for _ in range(1, n):\n",
    "            c = a + b\n",
    "            a, b = b, c\n",
    "        return c\n",
    "        \n",
    "if __name__ == \"__main__\": \n",
    "    solu = Solution() \n",
    "    result = solu.fib(6) \n",
    "    print(result)"
   ]
  },
  {
   "cell_type": "code",
   "execution_count": null,
   "metadata": {},
   "outputs": [],
   "source": []
  }
 ]
}